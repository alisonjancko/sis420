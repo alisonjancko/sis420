{
 "cells": [
  {
   "cell_type": "markdown",
   "id": "b01ff081",
   "metadata": {},
   "source": [
    "Nombre: Jancko Fuentes Alison Paola \\\n",
    "Repositorio: https://github.com/alisonjancko/sis420 \\"
   ]
  },
  {
   "cell_type": "code",
   "execution_count": 93,
   "id": "9f17cb11",
   "metadata": {},
   "outputs": [],
   "source": [
    "import math\n",
    "from busquedas_02 import ProblemaBusqueda, aestrella\n",
    "\n",
    "from timeit import default_timer"
   ]
  },
  {
   "cell_type": "code",
   "execution_count": 94,
   "id": "6c156568",
   "metadata": {},
   "outputs": [],
   "source": [
    "# 8. Resolver el problema de palitos de fosforo que permita:\n",
    "INICIAL = \"\"\"\n",
    "        _     _ \n",
    "|_| _   _| = |_|\n",
    "  |    |_     _|\n",
    "\"\"\"\n",
    "\n",
    "# |_ lo tomaremos como suma\n",
    "OBJETIVO = \"\"\"\n",
    " _      _     _ \n",
    "  | |_  _| = |_|\n",
    "  |    |_     _|\n",
    "\"\"\"\n",
    "\n",
    "inicio = default_timer()\n",
    "\n",
    "#Cambiar el string a una lista de caracteres en forma de matriz\n",
    "INICIAL = [list(x) for x in INICIAL.split(\"\\n\") if x]\n",
    "OBJETIVO = [list(x) for x in OBJETIVO.split(\"\\n\") if x]\n",
    "\n",
    "#print(INICIAL)\n",
    "#print(OBJETIVO)"
   ]
  },
  {
   "cell_type": "code",
   "execution_count": 95,
   "id": "1645d852",
   "metadata": {},
   "outputs": [],
   "source": [
    "posiciones_objetivo = {}\n",
    "filas_objetivo = OBJETIVO\n",
    "for i in ' ,_, , , , , , ,_, , , , , ,_, , , ,|, ,|,_, , ,_,|, ,=, ,|,_,|, , ,|, , , , ,|,_, , , , , ,_,|':\n",
    "    posiciones_objetivo[i] = find_location(filas_objetivo, i)"
   ]
  },
  {
   "cell_type": "code",
   "execution_count": 97,
   "id": "73cd2b38",
   "metadata": {},
   "outputs": [
    {
     "ename": "AttributeError",
     "evalue": "'list' object has no attribute 'split'",
     "output_type": "error",
     "traceback": [
      "\u001b[1;31m-------------------------------------------------------------------------\u001b[0m",
      "\u001b[1;31mAttributeError\u001b[0m                          Traceback (most recent call last)",
      "\u001b[1;32mC:\\Users\\TERABY~1\\AppData\\Local\\Temp/ipykernel_8804/1381674004.py\u001b[0m in \u001b[0;36m<module>\u001b[1;34m\u001b[0m\n\u001b[0;32m     51\u001b[0m \u001b[1;33m\u001b[0m\u001b[0m\n\u001b[0;32m     52\u001b[0m \u001b[1;33m\u001b[0m\u001b[0m\n\u001b[1;32m---> 53\u001b[1;33m \u001b[0mresultado\u001b[0m \u001b[1;33m=\u001b[0m \u001b[0maestrella\u001b[0m\u001b[1;33m(\u001b[0m\u001b[0mJuegoPalitos\u001b[0m\u001b[1;33m(\u001b[0m\u001b[0mINICIAL\u001b[0m\u001b[1;33m)\u001b[0m\u001b[1;33m)\u001b[0m\u001b[1;33m\u001b[0m\u001b[1;33m\u001b[0m\u001b[0m\n\u001b[0m\u001b[0;32m     54\u001b[0m \u001b[1;33m\u001b[0m\u001b[0m\n\u001b[0;32m     55\u001b[0m \u001b[1;32mfor\u001b[0m \u001b[0maccion\u001b[0m\u001b[1;33m,\u001b[0m \u001b[0mestado\u001b[0m \u001b[1;32min\u001b[0m \u001b[0mresultado\u001b[0m\u001b[1;33m.\u001b[0m\u001b[0mcamino\u001b[0m\u001b[1;33m(\u001b[0m\u001b[1;33m)\u001b[0m\u001b[1;33m:\u001b[0m\u001b[1;33m\u001b[0m\u001b[1;33m\u001b[0m\u001b[0m\n",
      "\u001b[1;32m~\\sis420\\PRIMER PARCIAL\\busquedas_02.py\u001b[0m in \u001b[0;36maestrella\u001b[1;34m(problema, busqueda_en_grafo, viewer)\u001b[0m\n\u001b[0;32m    356\u001b[0m     \u001b[0mProblemaBusqueda\u001b[0m\u001b[1;33m.\u001b[0m\u001b[0mheuristica\u001b[0m\u001b[1;33m.\u001b[0m\u001b[1;33m\u001b[0m\u001b[1;33m\u001b[0m\u001b[0m\n\u001b[0;32m    357\u001b[0m     '''\n\u001b[1;32m--> 358\u001b[1;33m     return _buscar(problema,\n\u001b[0m\u001b[0;32m    359\u001b[0m                    \u001b[0mColaPrioridadLimitada\u001b[0m\u001b[1;33m(\u001b[0m\u001b[1;33m)\u001b[0m\u001b[1;33m,\u001b[0m\u001b[1;33m\u001b[0m\u001b[1;33m\u001b[0m\u001b[0m\n\u001b[0;32m    360\u001b[0m                    \u001b[0mbusqueda_en_grafo\u001b[0m\u001b[1;33m=\u001b[0m\u001b[0mbusqueda_en_grafo\u001b[0m\u001b[1;33m,\u001b[0m\u001b[1;33m\u001b[0m\u001b[1;33m\u001b[0m\u001b[0m\n",
      "\u001b[1;32m~\\sis420\\PRIMER PARCIAL\\busquedas_02.py\u001b[0m in \u001b[0;36m_buscar\u001b[1;34m(problema, frontera, busqueda_en_grafo, limite_profundidad, fabrica_nodos, reemplazar_grafo_cuando_mejor)\u001b[0m\n\u001b[0;32m    369\u001b[0m     '''\n\u001b[0;32m    370\u001b[0m     \u001b[0mmemoria\u001b[0m \u001b[1;33m=\u001b[0m \u001b[0mset\u001b[0m\u001b[1;33m(\u001b[0m\u001b[1;33m)\u001b[0m\u001b[1;33m\u001b[0m\u001b[1;33m\u001b[0m\u001b[0m\n\u001b[1;32m--> 371\u001b[1;33m     \u001b[0mnodo_inicio\u001b[0m \u001b[1;33m=\u001b[0m \u001b[0mfabrica_nodos\u001b[0m\u001b[1;33m(\u001b[0m\u001b[0mestado\u001b[0m\u001b[1;33m=\u001b[0m\u001b[0mproblema\u001b[0m\u001b[1;33m.\u001b[0m\u001b[0mestado_inicial\u001b[0m\u001b[1;33m,\u001b[0m \u001b[0mproblema\u001b[0m\u001b[1;33m=\u001b[0m\u001b[0mproblema\u001b[0m\u001b[1;33m)\u001b[0m\u001b[1;33m\u001b[0m\u001b[1;33m\u001b[0m\u001b[0m\n\u001b[0m\u001b[0;32m    372\u001b[0m     \u001b[0mfrontera\u001b[0m\u001b[1;33m.\u001b[0m\u001b[0mappend\u001b[0m\u001b[1;33m(\u001b[0m\u001b[0mnodo_inicio\u001b[0m\u001b[1;33m)\u001b[0m\u001b[1;33m\u001b[0m\u001b[1;33m\u001b[0m\u001b[0m\n\u001b[0;32m    373\u001b[0m \u001b[1;33m\u001b[0m\u001b[0m\n",
      "\u001b[1;32m~\\sis420\\PRIMER PARCIAL\\busquedas_02.py\u001b[0m in \u001b[0;36m__init__\u001b[1;34m(self, *args, **kwargs)\u001b[0m\n\u001b[0;32m    221\u001b[0m     \u001b[1;32mdef\u001b[0m \u001b[0m__init__\u001b[0m\u001b[1;33m(\u001b[0m\u001b[0mself\u001b[0m\u001b[1;33m,\u001b[0m \u001b[1;33m*\u001b[0m\u001b[0margs\u001b[0m\u001b[1;33m,\u001b[0m \u001b[1;33m**\u001b[0m\u001b[0mkwargs\u001b[0m\u001b[1;33m)\u001b[0m\u001b[1;33m:\u001b[0m\u001b[1;33m\u001b[0m\u001b[1;33m\u001b[0m\u001b[0m\n\u001b[0;32m    222\u001b[0m         \u001b[0msuper\u001b[0m\u001b[1;33m(\u001b[0m\u001b[0mNodoBusquedaHeuristicaOrdenado\u001b[0m\u001b[1;33m,\u001b[0m \u001b[0mself\u001b[0m\u001b[1;33m)\u001b[0m\u001b[1;33m.\u001b[0m\u001b[0m__init__\u001b[0m\u001b[1;33m(\u001b[0m\u001b[1;33m*\u001b[0m\u001b[0margs\u001b[0m\u001b[1;33m,\u001b[0m \u001b[1;33m**\u001b[0m\u001b[0mkwargs\u001b[0m\u001b[1;33m)\u001b[0m\u001b[1;33m\u001b[0m\u001b[1;33m\u001b[0m\u001b[0m\n\u001b[1;32m--> 223\u001b[1;33m         \u001b[0mself\u001b[0m\u001b[1;33m.\u001b[0m\u001b[0mheuristica\u001b[0m \u001b[1;33m=\u001b[0m \u001b[0mself\u001b[0m\u001b[1;33m.\u001b[0m\u001b[0mproblema\u001b[0m\u001b[1;33m.\u001b[0m\u001b[0mheuristica\u001b[0m\u001b[1;33m(\u001b[0m\u001b[0mself\u001b[0m\u001b[1;33m.\u001b[0m\u001b[0mestado\u001b[0m\u001b[1;33m)\u001b[0m\u001b[1;33m\u001b[0m\u001b[1;33m\u001b[0m\u001b[0m\n\u001b[0m\u001b[0;32m    224\u001b[0m \u001b[1;33m\u001b[0m\u001b[0m\n\u001b[0;32m    225\u001b[0m     \u001b[1;32mdef\u001b[0m \u001b[0m__lt__\u001b[0m\u001b[1;33m(\u001b[0m\u001b[0mself\u001b[0m\u001b[1;33m,\u001b[0m \u001b[0motro\u001b[0m\u001b[1;33m)\u001b[0m\u001b[1;33m:\u001b[0m\u001b[1;33m\u001b[0m\u001b[1;33m\u001b[0m\u001b[0m\n",
      "\u001b[1;32mC:\\Users\\TERABY~1\\AppData\\Local\\Temp/ipykernel_8804/1381674004.py\u001b[0m in \u001b[0;36mheuristica\u001b[1;34m(self, estado)\u001b[0m\n\u001b[0;32m     40\u001b[0m         \u001b[1;31m#distancia manhattan: define la distancia entre dos estados con la suma de las diferencias absolutas\u001b[0m\u001b[1;33m\u001b[0m\u001b[1;33m\u001b[0m\u001b[0m\n\u001b[0;32m     41\u001b[0m \u001b[1;33m\u001b[0m\u001b[0m\n\u001b[1;32m---> 42\u001b[1;33m         \u001b[0mfilas\u001b[0m \u001b[1;33m=\u001b[0m \u001b[0mstring_to_list\u001b[0m\u001b[1;33m(\u001b[0m\u001b[0mestado\u001b[0m\u001b[1;33m)\u001b[0m\u001b[1;33m\u001b[0m\u001b[1;33m\u001b[0m\u001b[0m\n\u001b[0m\u001b[0;32m     43\u001b[0m         \u001b[0mdistancia\u001b[0m \u001b[1;33m=\u001b[0m \u001b[1;36m0\u001b[0m\u001b[1;33m\u001b[0m\u001b[1;33m\u001b[0m\u001b[0m\n\u001b[0;32m     44\u001b[0m         \u001b[1;32mfor\u001b[0m \u001b[0mi\u001b[0m \u001b[1;32min\u001b[0m \u001b[1;34m' ,_, , , , , , ,_, , , , , ,_, , , ,|, ,|,_, , ,_,|, ,=, ,|,_,|, , ,|, , , , ,|,_, , , , , ,_,|'\u001b[0m\u001b[1;33m:\u001b[0m\u001b[1;33m\u001b[0m\u001b[1;33m\u001b[0m\u001b[0m\n",
      "\u001b[1;32mC:\\Users\\TERABY~1\\AppData\\Local\\Temp/ipykernel_8804/3408267189.py\u001b[0m in \u001b[0;36mstring_to_list\u001b[1;34m(string_)\u001b[0m\n\u001b[0;32m     20\u001b[0m \u001b[1;33m\u001b[0m\u001b[0m\n\u001b[0;32m     21\u001b[0m \u001b[1;32mdef\u001b[0m \u001b[0mstring_to_list\u001b[0m\u001b[1;33m(\u001b[0m\u001b[0mstring_\u001b[0m\u001b[1;33m)\u001b[0m\u001b[1;33m:\u001b[0m\u001b[1;33m\u001b[0m\u001b[1;33m\u001b[0m\u001b[0m\n\u001b[1;32m---> 22\u001b[1;33m     \u001b[1;32mreturn\u001b[0m \u001b[1;33m[\u001b[0m\u001b[0mrow\u001b[0m\u001b[1;33m.\u001b[0m\u001b[0msplit\u001b[0m\u001b[1;33m(\u001b[0m\u001b[1;34m''\u001b[0m\u001b[1;33m)\u001b[0m \u001b[1;32mfor\u001b[0m \u001b[0mrow\u001b[0m \u001b[1;32min\u001b[0m \u001b[0mstring_\u001b[0m\u001b[1;33m.\u001b[0m\u001b[0msplit\u001b[0m\u001b[1;33m(\u001b[0m\u001b[1;34m'\\n'\u001b[0m\u001b[1;33m)\u001b[0m\u001b[1;33m]\u001b[0m\u001b[1;33m\u001b[0m\u001b[1;33m\u001b[0m\u001b[0m\n\u001b[0m\u001b[0;32m     23\u001b[0m \u001b[1;33m\u001b[0m\u001b[0m\n\u001b[0;32m     24\u001b[0m \u001b[1;33m\u001b[0m\u001b[0m\n",
      "\u001b[1;31mAttributeError\u001b[0m: 'list' object has no attribute 'split'"
     ]
    }
   ],
   "source": [
    "class JuegoPalitos(ProblemaBusqueda):\n",
    "    \n",
    "    def acciones(self, estado):\n",
    "        \n",
    "        filas = string_to_list(estado)\n",
    "        fila, columna = find_location(filas, '_' or '|')\n",
    "\n",
    "        acciones = []\n",
    "        if fila > 0:\n",
    "            acciones.append(filas[fila - 1][columna])\n",
    "        if fila < 2:\n",
    "            acciones.append(filas[fila + 1][columna])\n",
    "        if columna > 0:\n",
    "            acciones.append(filas[fila][columna - 1])\n",
    "        if columna < 15:\n",
    "            acciones.append(filas[fila][columna + 1])\n",
    "\n",
    "        return acciones\n",
    "        \n",
    "\n",
    "    def resultado(self, estado, accion):\n",
    "        filas = string_to_list(estado)\n",
    "        fila, columna = find_location(filas, '_' or '|')\n",
    "        fila_n, columna_n = find_location(filas, accion)\n",
    "\n",
    "        filas[fila][columna], filas[fila_n][columna_n] = filas[fila_n][columna_n], filas[fila][columna]\n",
    "\n",
    "        return list_to_string(filas)\n",
    "\n",
    "    def es_objetivo(self, estado):\n",
    "        #True si un estado es el estado_objetivo\n",
    "        return estado == OBJETIVO\n",
    "\n",
    "    def costo(self, estado1, accion, estado2):\n",
    "        #costo de ejecutar una accion \n",
    "        return 1\n",
    "\n",
    "    def heuristica(self, estado):\n",
    "        #Aprox de la distancia de un esatdo a otro\n",
    "        #distancia manhattan: define la distancia entre dos estados con la suma de las diferencias absolutas \n",
    "        \n",
    "        filas = string_to_list(estado)\n",
    "        distancia = 0\n",
    "        for i in ' ,_, , , , , , ,_, , , , , ,_, , , ,|, ,|,_, , ,_,|, ,=, ,|,_,|, , ,|, , , , ,|,_, , , , , ,_,|':\n",
    "            fila_n, columna_n = find_location(filas, i)\n",
    "            fila_n_objetivo, col_n_meta = posiciones_objetivo[i]\n",
    "\n",
    "            distancia += abs(fila_n - fila_n_objetivo) + abs(columna_n - col_n_meta)\n",
    "\n",
    "        return distancia\n",
    "\n",
    "\n",
    "resultado = aestrella(JuegoPalitos(INICIAL))\n",
    "\n",
    "for accion, estado in resultado.camino():\n",
    "    print(accion)\n",
    "    print(estado)\n",
    "fin = default_timer()\n",
    "print((fin - inicio)/60,' Minutos')"
   ]
  },
  {
   "cell_type": "code",
   "execution_count": null,
   "id": "adda787b",
   "metadata": {},
   "outputs": [],
   "source": []
  }
 ],
 "metadata": {
  "kernelspec": {
   "display_name": "Python 3 (ipykernel)",
   "language": "python",
   "name": "python3"
  },
  "language_info": {
   "codemirror_mode": {
    "name": "ipython",
    "version": 3
   },
   "file_extension": ".py",
   "mimetype": "text/x-python",
   "name": "python",
   "nbconvert_exporter": "python",
   "pygments_lexer": "ipython3",
   "version": "3.9.7"
  }
 },
 "nbformat": 4,
 "nbformat_minor": 5
}
